{
 "cells": [
  {
   "cell_type": "code",
   "execution_count": 3,
   "metadata": {},
   "outputs": [],
   "source": [
    "# Install Libraries #\n",
    " \n",
    "# pip install pandas"
   ]
  },
  {
   "cell_type": "code",
   "execution_count": 3,
   "metadata": {},
   "outputs": [
    {
     "name": "stdout",
     "output_type": "stream",
     "text": [
      "DataFrame de Configuración:\n",
      "  Algorithm Database Semantic RPQ  Time\n",
      "0   Algebra   db.txt       ar   A     0\n"
     ]
    }
   ],
   "source": [
    "import pandas as pd\n",
    "\n",
    "# Nombre del archivo\n",
    "archivo = \"../tests/1_a_alg_1.txt\"\n",
    "\n",
    "# Variables para almacenar la configuración y los caminos\n",
    "configuracion = {}\n",
    "caminos = []\n",
    "\n",
    "# Bandera para determinar si estamos en la sección de configuración o caminos\n",
    "en_configuracion = False\n",
    "\n",
    "# Abrir el archivo y leer línea por línea\n",
    "with open(archivo, 'r') as file:\n",
    "    for linea in file:\n",
    "        # Eliminar espacios en blanco al principio y al final de la línea\n",
    "        linea = linea.strip()\n",
    "        \n",
    "        # Verificar si estamos en la sección de configuración\n",
    "        if linea.startswith(\"--Configuration--\"):\n",
    "            en_configuracion = True\n",
    "        elif linea.startswith(\"--Paths--\"):\n",
    "            en_configuracion = False\n",
    "        elif en_configuracion and linea:\n",
    "            # Dividir la línea en clave y valor\n",
    "            clave, valor = linea.split(':')\n",
    "            \n",
    "            # Almacenar en el diccionario de configuración\n",
    "            configuracion[clave.strip()] = valor.strip()\n",
    "        elif not en_configuracion and linea:\n",
    "            # Almacenar en la lista de caminos\n",
    "            caminos.append(linea)\n",
    "\n",
    "# Crear un DataFrame de pandas para la configuración\n",
    "df_configuracion = pd.DataFrame([configuracion])\n",
    "\n",
    "# Crear un DataFrame de pandas para los caminos\n",
    "df_caminos = pd.DataFrame({\"Paths\": caminos})\n",
    "\n",
    "# Sustituir los valores en la columna 'Semantic'\n",
    "df_configuracion['Semantic'] = df_configuracion['Semantic'].replace({\n",
    "    'Arbitrary': 'ar',\n",
    "    'Simple Path': 'sp',\n",
    "    'Trail': 'tr'\n",
    "})\n",
    "\n",
    "# Convertir la columna 'Time' a formato numérico y eliminar 'ms'\n",
    "df_configuracion['Time'] = pd.to_numeric(df_configuracion['Time'].str.replace(' ms', ''))\n",
    "\n",
    "# Imprimir los DataFrames\n",
    "print(\"DataFrame de Configuración:\")\n",
    "print(df_configuracion)\n"
   ]
  },
  {
   "cell_type": "code",
   "execution_count": 10,
   "metadata": {},
   "outputs": [
    {
     "name": "stdout",
     "output_type": "stream",
     "text": [
      "Proceso completado. Se ha creado el archivo likesmod.txt.\n",
      "Proceso completado. Se ha creado el archivo friendsmod.txt.\n"
     ]
    }
   ],
   "source": [
    "archivo_entrada = 'likes.csv'\n",
    "archivo_salida = 'likesmod.txt'\n",
    "\n",
    "def modificar_linea(linea):\n",
    "    \n",
    "    partes = linea.split(',')\n",
    "    nueva_linea = partes[1] + \",l,\" + partes[2]\n",
    "\n",
    "    return nueva_linea\n",
    "\n",
    "with open(archivo_entrada, 'r') as file_in, open(archivo_salida, 'w') as file_out:\n",
    "    for linea in file_in:\n",
    "        nueva_linea = modificar_linea(linea)\n",
    "\n",
    "        file_out.write(nueva_linea)\n",
    "\n",
    "print(f\"Proceso completado. Se ha creado el archivo {archivo_salida}.\")\n",
    "\n",
    "archivo_entrada = 'friends.csv'\n",
    "archivo_salida = 'friendsmod.txt'\n",
    "\n",
    "def modificar_linea(linea):\n",
    "    \n",
    "    partes = linea.split(',')\n",
    "    nueva_linea = partes[1] + \",f,\" + partes[2]\n",
    "\n",
    "    return nueva_linea\n",
    "\n",
    "with open(archivo_entrada, 'r') as file_in, open(archivo_salida, 'w') as file_out:\n",
    "    for linea in file_in:\n",
    "        nueva_linea = modificar_linea(linea)\n",
    "\n",
    "        file_out.write(nueva_linea)\n",
    "\n",
    "print(f\"Proceso completado. Se ha creado el archivo {archivo_salida}.\")\n"
   ]
  }
 ],
 "metadata": {
  "kernelspec": {
   "display_name": "Python 3",
   "language": "python",
   "name": "python3"
  },
  "language_info": {
   "codemirror_mode": {
    "name": "ipython",
    "version": 3
   },
   "file_extension": ".py",
   "mimetype": "text/x-python",
   "name": "python",
   "nbconvert_exporter": "python",
   "pygments_lexer": "ipython3",
   "version": "3.11.3"
  }
 },
 "nbformat": 4,
 "nbformat_minor": 2
}
